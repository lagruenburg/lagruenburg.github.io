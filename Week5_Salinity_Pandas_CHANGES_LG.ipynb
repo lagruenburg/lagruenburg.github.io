{
  "nbformat": 4,
  "nbformat_minor": 0,
  "metadata": {
    "colab": {
      "name": "Week5_Salinity_Pandas_CHANGES_LG.ipynb",
      "provenance": [],
      "authorship_tag": "ABX9TyNdlHmAcmz37UED3PwZj1rw",
      "include_colab_link": true
    },
    "kernelspec": {
      "name": "python3",
      "display_name": "Python 3"
    }
  },
  "cells": [
    {
      "cell_type": "markdown",
      "metadata": {
        "id": "view-in-github",
        "colab_type": "text"
      },
      "source": [
        "<a href=\"https://colab.research.google.com/github/lagruenburg/lagruenburg.github.io/blob/master/Week5_Salinity_Pandas_CHANGES_LG.ipynb\" target=\"_parent\"><img src=\"https://colab.research.google.com/assets/colab-badge.svg\" alt=\"Open In Colab\"/></a>"
      ]
    },
    {
      "cell_type": "code",
      "metadata": {
        "id": "euz_8p78y04X"
      },
      "source": [
        ""
      ],
      "execution_count": null,
      "outputs": []
    },
    {
      "cell_type": "markdown",
      "metadata": {
        "id": "Pvtd2MCqy4Ot"
      },
      "source": [
        "# **Week 5: Ocean Salinity, Packages and Pandas**\n",
        "\n",
        "**Learning Goals**\n",
        "- Learn about ocean salinity (10 min)\n",
        "- What are Python packages? (5 min)\n",
        "- `import` essential packages (5 min)\n",
        "- Let's play with `pandas`! (20 min)\n",
        "\n",
        "### **Icebreaker!**\n",
        "> **How many oceans are there?** 🤔..."
      ]
    },
    {
      "cell_type": "markdown",
      "metadata": {
        "id": "8oFF3Ey3y7GX"
      },
      "source": [
        "##### Sort of a trick question..."
      ]
    },
    {
      "cell_type": "markdown",
      "metadata": {
        "id": "htJ5OliVy8JU"
      },
      "source": [
        "![Five Oceans](https://wakeuptodigital.files.wordpress.com/2019/02/oceans.jpg)"
      ]
    },
    {
      "cell_type": "markdown",
      "metadata": {
        "id": "3t0X5SEvzAqv"
      },
      "source": [
        "> In the field of oceanography there are five major ocean basins on this planet: Arctic, Atlantic, Indian, Pacific and Southern Ocean. \n",
        ">\n",
        "> Oceanographers go even further and study the different kinds of \"*water masses*\" in the basins, and their influence on the earth's system. \n",
        "\n",
        "> **A water mass is a body of water with characteristic physical properties (like temperature and salinity).** For example you can imagine how water from the Artic Ocean might be a lot colder than water from the Carribean!"
      ]
    },
    {
      "cell_type": "markdown",
      "metadata": {
        "id": "giR3LLn9zdSJ"
      },
      "source": [
        "# **Recap**\n",
        "\n",
        "- Indexing and slicing\n",
        "- Logical statements"
      ]
    },
    {
      "cell_type": "markdown",
      "metadata": {
        "id": "3XQOpnfwzmx8"
      },
      "source": [
        "> **We measure ocean temperature and depth with argo floats. What else do you think an Argo float measures in the water?**"
      ]
    },
    {
      "cell_type": "markdown",
      "metadata": {
        "id": "rAUNCk0qzqMp"
      },
      "source": [
        "# **Ocean Salinity**\n",
        "\n",
        "### Salt vs Salinity\n",
        "\n",
        "> **Salts** are compounds like sodium chloride, magnesium sulfate, potassium nitrate, and sodium bicarbonate which dissolve into ions.\n",
        "\n",
        "> **Salinity** is the quantity of dissolved salt content of the water. It is measured as a mass fraction, or the ratio of dissolved salts (g) to a unit mass of water (kg). Often the unit for salinity is expressed as \"practical salinity unit\" (psu= $\\frac{g}{kg}$)."
      ]
    },
    {
      "cell_type": "markdown",
      "metadata": {
        "id": "bkBlpn740O0D"
      },
      "source": [
        "### We all know that the ocean is salty, but why is it that way?\n"
      ]
    },
    {
      "cell_type": "markdown",
      "metadata": {
        "id": "ywiZ-ywJ3nZl"
      },
      "source": [
        "### First let's consider the hydrologic cycle...\n",
        "<img src=\"https://ars.els-cdn.com/content/image/3-s2.0-B9780444627339000034-f03-04-9780444627339.jpg\">\n",
        "\n",
        "#### Just like how your sweat evaporates on a hot July day to keep you cool, the ocean also experiences evaporation!\n",
        ">  BUT salt can't evaporate!  When ocean water evaporates it leaves the salt behind, **increasing** the salinity of the remaining water.\n",
        "\n",
        "#### Some of this water that **evaporated** forms clouds which blow around and sometimes rain, snow, sleet over land.\n",
        "> NOTE precipitation, rain, snow, sleet, also happens over the ocean!  It dilutes the salt content and **decreases** the salinity.\n",
        "\n",
        "#### When this water rains onto land it forms rivulets and streams and creeks and brooks and kills and rivers and waterfalls, which flow through and erode away the surrounding rocks.\n",
        "\n",
        "<img src = \"https://s3-us-west-2.amazonaws.com/courses-images-archive-read-only/wp-content/uploads/sites/459/2015/06/21062403/Fig_11_2_1_3.jpg\">\n",
        "\n",
        "#### It is these eroded and dissolved rocks that add salts to our rivers and streams.  These rivers and streams flow into the ocean bringing this salt with them.\n",
        "\n",
        "### **But rivers don't taste salty???**\n",
        "\n",
        "#### True, but Earth's oceans are very old!  This process of increasing the salinity of the ocean likely took hundreds of millions of years!\n",
        "\n",
        "#### **AND** There is another source of salt...\n",
        "\n",
        "<img src = \"https://www.researchgate.net/profile/Hany_Elosta/publication/230758678/figure/fig3/AS:669043681918977@1536523852155/Active-Hydrothermal-Vent-Site-Black-Smoker-Source-MARUM-Research-Center-Ocean-Margins.png\">\n",
        "\n",
        "## **Hydrothermal Vents**\n",
        "\n",
        "#### Many placees of the ocean are geologically active, hosting earthquakes and undersea volanos!  Juse like water forms rivers and erodes rocks on land, under the ocean seawater seeps into the ocean floor, eroding and dissolving the surrounding rock.  At these geologically active sites, this oceanic 'ground water' gets very very very hot and is returned to the ocean via these hydrothermal vents.  This is another source of salt!"
      ]
    },
    {
      "cell_type": "markdown",
      "metadata": {
        "id": "ztUs0fIe8jyN"
      },
      "source": [
        "## Now that we know why the ocean is salty one more question - does the whole ocean have the same salinity?"
      ]
    },
    {
      "cell_type": "markdown",
      "metadata": {
        "id": "g35i6Ih40MvB"
      },
      "source": [
        "<img width=800 src=\"https://smap.jpl.nasa.gov/system/news_items/main_images/1265_SMAP_salinity.jpg\">"
      ]
    },
    {
      "cell_type": "markdown",
      "metadata": {
        "id": "nspppInF8zdO"
      },
      "source": [
        "#### No!  Above is a map of the salinity of the water at the ocean surface with lighter blue colors indicating low salinity and reds and oranges high salinity.\n",
        "\n",
        "> **Based on the figure above...**\n",
        ">\n",
        "> **1) Which ocean basin is the saltiest/freshest?**\n",
        ">\n",
        "> **2) What is the average salinity of the ocean?**\n",
        ">\n",
        "> **3) What else do you notice about the patterns of low and high salinity?  Remember the hydrologic cycle!**"
      ]
    },
    {
      "cell_type": "markdown",
      "metadata": {
        "id": "6-ucFpOb9cVc"
      },
      "source": [
        "# **Python Packages**\n",
        "(Ding, Ding) You've got mail!\n",
        "\n",
        "[Python Packages Index (PyPi)](https://pypi.org/)"
      ]
    },
    {
      "cell_type": "markdown",
      "metadata": {
        "id": "UISbWYBw9fzY"
      },
      "source": [
        "* A module is a file containing Python code. \n",
        "* A package, however, is like a directory that holds sub-packages and modules. A package must hold the file **`__init__`.**py. This does not apply to modules.\n",
        "* Packages are a way of structuring Python’s module namespace by using “dotted module names” (e.g `A.B` --> `plt.plot()`.\n",
        "\n",
        "I think this explanation is too technical...I don't personally understand it so I'm not sure I'm the best one to revise it.  Maybe some of Una's 'toolbox' language???"
      ]
    },
    {
      "cell_type": "markdown",
      "metadata": {
        "id": "7gKsol6C-_LN"
      },
      "source": [
        "#### **These are examples essential Python packages we use all the time!**\n",
        "\n",
        "- `numpy` lets us do all kinds of mathematical operatrions to different groupings of numbers\n",
        "\n",
        "- `pandas`\n",
        "- `matplotlib` is used to make plots and graphs (more in week 7!)"
      ]
    },
    {
      "cell_type": "markdown",
      "metadata": {
        "id": "3AZsYsjEC6y0"
      },
      "source": [
        "> **How do we get packages into our notebooks?**\n",
        ">\n",
        "> We `import` them!\n",
        ">\n",
        "> In this form:\n",
        "> `import` name_of_package\n",
        ">\n",
        "> Often we give the package a shorter nickname so we don't have to always type out the whole name\n",
        ">\n",
        "> To do this we write: `import` name_of_package `as` nickname"
      ]
    },
    {
      "cell_type": "code",
      "metadata": {
        "id": "RGFILSYTDp1T"
      },
      "source": [
        "# Here we import our essential packages and give them easy nicknames\n",
        "import numpy as np\n",
        "import pandas as pd\n",
        "import matplotlib.pyplot as plt"
      ],
      "execution_count": 3,
      "outputs": []
    },
    {
      "cell_type": "markdown",
      "metadata": {
        "id": "zVqkVYwXD0qw"
      },
      "source": [
        "# **Pandas**\n",
        "\n",
        "<img width=\"400\" src='https://miro.medium.com/max/1400/1*KdxlBR9P3mDp9JZ_URMdYQ.jpeg'>\n",
        "\n",
        ">No but seriously, `pandas` is a Python library that allows for efficient, high-performing analysis on _tabular_ data (i.e. data in a table, like an excel sheet).\n",
        "\n",
        "### **There are two main data structures in pandas**\n",
        "\n",
        "> **Data Series**: 1-dimensional array of values with an index\n",
        ">\n",
        "> **Data Frame**: 2-dimensional array of values with a row and a column index"
      ]
    },
    {
      "cell_type": "markdown",
      "metadata": {
        "id": "tEQVt1x2D-oW"
      },
      "source": [
        "<img width=\"500\" src='https://miro.medium.com/max/1400/1*o5c599ueURBTZWDGmx1SiA.png'>"
      ]
    },
    {
      "cell_type": "markdown",
      "metadata": {
        "id": "7bUq4cLmECsH"
      },
      "source": [
        "> **Confused?** Anytime you need more information on a package/function, call `?` after the function name."
      ]
    },
    {
      "cell_type": "code",
      "metadata": {
        "id": "L8DDH9OtELvj"
      },
      "source": [
        "#in this cell use the ? to learn more about the pands (pd) package\n"
      ],
      "execution_count": 5,
      "outputs": []
    },
    {
      "cell_type": "markdown",
      "metadata": {
        "id": "Vbe0fMvoEJQt"
      },
      "source": [
        "#### **Example of a pandas Data Series:**\n",
        "> In the cell below we create 2 lists, one of ocean basin names (strings!) and another of the average salinity in each one of those basins (numbers! A mixture of floats and integers!)\n",
        "\n",
        "> We also create a pandas dataseries we call ds\n",
        ">\n",
        "> to do this we use the series command:\n",
        ">\n",
        "> `pd.Series(data = ` name_of_the_data_list `, index = ` name_of_the_index_list `, name = ` give_data_series_a_name `)`\n"
      ]
    },
    {
      "cell_type": "code",
      "metadata": {
        "id": "-7ZOUamEEZJ0"
      },
      "source": [
        "ocean_basins = ['Arctic', 'Atlantic', 'Indian', 'Pacific', 'Southern'] # index name list\n",
        "avg_salinity = [32, 35, 34.5, 35, 34.7] # data list\n",
        "\n",
        "ds = pd.Series(data=avg_salinity, index=ocean_basins, name=\"Ocean basins' average salinities\") # creating data series"
      ],
      "execution_count": 6,
      "outputs": []
    },
    {
      "cell_type": "markdown",
      "metadata": {
        "id": "kS0D7eh8HdUg"
      },
      "source": [
        "> To see the dataseries, just type its name into the code cell"
      ]
    },
    {
      "cell_type": "code",
      "metadata": {
        "colab": {
          "base_uri": "https://localhost:8080/"
        },
        "id": "nKza9cINHUx6",
        "outputId": "feafbb28-8c61-4fcc-c941-239f72fca2a1"
      },
      "source": [
        "ds"
      ],
      "execution_count": 10,
      "outputs": [
        {
          "output_type": "execute_result",
          "data": {
            "text/plain": [
              "Arctic      32.0\n",
              "Atlantic    35.0\n",
              "Indian      34.5\n",
              "Pacific     35.0\n",
              "Southern    34.7\n",
              "Name: Ocean basins' average salinities, dtype: float64"
            ]
          },
          "metadata": {
            "tags": []
          },
          "execution_count": 10
        }
      ]
    },
    {
      "cell_type": "markdown",
      "metadata": {
        "id": "xnEh8THfHmM4"
      },
      "source": [
        "> To see the index entries type dataseries_name`.index`\n",
        ">\n",
        "> **Try it out in the cell below!**"
      ]
    },
    {
      "cell_type": "code",
      "metadata": {
        "id": "hYVbQchFG8J6"
      },
      "source": [
        "# Look at the index entries of our dataseries ds\n"
      ],
      "execution_count": 15,
      "outputs": []
    },
    {
      "cell_type": "markdown",
      "metadata": {
        "id": "ps95hju8IJyo"
      },
      "source": [
        "### **Indexing**"
      ]
    },
    {
      "cell_type": "markdown",
      "metadata": {
        "id": "rPGopo3oIMKV"
      },
      "source": [
        "> When we want to know the data entry assoicate with a specific index entry we can use the `.loc` attribute\n",
        ">\n",
        "> dataseries_name`.loc[\"`index_entry`\"]`"
      ]
    },
    {
      "cell_type": "code",
      "metadata": {
        "colab": {
          "base_uri": "https://localhost:8080/"
        },
        "id": "sf3bvikly4qT",
        "outputId": "e4931f75-c731-4c90-df18-5d2dfc92a812"
      },
      "source": [
        "# Here we want to know the salinity of the Southern Ocean\n",
        "ds.loc['Southern']"
      ],
      "execution_count": 16,
      "outputs": [
        {
          "output_type": "execute_result",
          "data": {
            "text/plain": [
              "34.7"
            ]
          },
          "metadata": {
            "tags": []
          },
          "execution_count": 16
        }
      ]
    },
    {
      "cell_type": "markdown",
      "metadata": {
        "id": "D3cdqnkOI7iG"
      },
      "source": [
        "> What's the salinity of the Indian Ocean?"
      ]
    },
    {
      "cell_type": "code",
      "metadata": {
        "id": "48ctJO-Ezbf6"
      },
      "source": [
        "# You try here!\n"
      ],
      "execution_count": 17,
      "outputs": []
    },
    {
      "cell_type": "code",
      "metadata": {
        "id": "Zt7iXV24JBFi"
      },
      "source": [
        ""
      ],
      "execution_count": null,
      "outputs": []
    }
  ]
}